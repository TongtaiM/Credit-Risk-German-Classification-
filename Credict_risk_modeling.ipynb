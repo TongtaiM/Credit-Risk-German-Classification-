{
 "cells": [
  {
   "cell_type": "code",
   "execution_count": 109,
   "id": "33990fea",
   "metadata": {},
   "outputs": [],
   "source": [
    "import pandas as pd\n",
    "import numpy as np\n",
    "import matplotlib.pyplot as plt\n",
    "import seaborn as sns\n",
    "from sklearn.model_selection import train_test_split\n",
    "from sklearn.datasets import load_iris\n",
    "from sklearn.preprocessing import StandardScaler\n",
    "\n",
    "from catboost import CatBoostClassifier    #Please install catboost (!pip install catboost)  \n",
    "from sklearn.metrics import r2_score\n",
    "from sklearn.metrics import f1_score\n",
    "from sklearn.metrics import accuracy_score, classification_report\n",
    "from sklearn.metrics import confusion_matrix,roc_auc_score,roc_curve\n",
    "from xgboost import XGBClassifier\n",
    "from sklearn.ensemble import RandomForestClassifier"
   ]
  },
  {
   "cell_type": "code",
   "execution_count": 49,
   "id": "c8204d95",
   "metadata": {},
   "outputs": [],
   "source": [
    "german = pd.read_csv(\"C:/Users/matages/Desktop/German_Credit/german_clean.csv\")"
   ]
  },
  {
   "cell_type": "code",
   "execution_count": 50,
   "id": "3d27fff0",
   "metadata": {},
   "outputs": [],
   "source": [
    "german = german.iloc[:,1:]"
   ]
  },
  {
   "cell_type": "code",
   "execution_count": 51,
   "id": "12f21109",
   "metadata": {},
   "outputs": [
    {
     "data": {
      "text/html": [
       "<div>\n",
       "<style scoped>\n",
       "    .dataframe tbody tr th:only-of-type {\n",
       "        vertical-align: middle;\n",
       "    }\n",
       "\n",
       "    .dataframe tbody tr th {\n",
       "        vertical-align: top;\n",
       "    }\n",
       "\n",
       "    .dataframe thead th {\n",
       "        text-align: right;\n",
       "    }\n",
       "</style>\n",
       "<table border=\"1\" class=\"dataframe\">\n",
       "  <thead>\n",
       "    <tr style=\"text-align: right;\">\n",
       "      <th></th>\n",
       "      <th>Status of existing checking account</th>\n",
       "      <th>Duration in month</th>\n",
       "      <th>Credit history</th>\n",
       "      <th>Purpose</th>\n",
       "      <th>Credit amount</th>\n",
       "      <th>Savings account/bonds</th>\n",
       "      <th>Present employment since</th>\n",
       "      <th>Installment rate in percentage of disposable income</th>\n",
       "      <th>Personal status and sex</th>\n",
       "      <th>Other debtors / guarantors</th>\n",
       "      <th>...</th>\n",
       "      <th>Property</th>\n",
       "      <th>Age in years</th>\n",
       "      <th>Other installment plans</th>\n",
       "      <th>Housing</th>\n",
       "      <th>Number of existing credits at this bank</th>\n",
       "      <th>Job</th>\n",
       "      <th>Number of people being liable to provide maintenance for</th>\n",
       "      <th>Telephone</th>\n",
       "      <th>foreign worker</th>\n",
       "      <th>Class</th>\n",
       "    </tr>\n",
       "  </thead>\n",
       "  <tbody>\n",
       "    <tr>\n",
       "      <th>0</th>\n",
       "      <td>... &lt;    0 DM</td>\n",
       "      <td>6</td>\n",
       "      <td>critical account/other credits existing (not a...</td>\n",
       "      <td>radio/television</td>\n",
       "      <td>1169</td>\n",
       "      <td>unknown/ no savings account</td>\n",
       "      <td>.. &gt;= 7 years</td>\n",
       "      <td>4</td>\n",
       "      <td>male   : single</td>\n",
       "      <td>none</td>\n",
       "      <td>...</td>\n",
       "      <td>real estate</td>\n",
       "      <td>67</td>\n",
       "      <td>none</td>\n",
       "      <td>own</td>\n",
       "      <td>2</td>\n",
       "      <td>skilled employee / official</td>\n",
       "      <td>1</td>\n",
       "      <td>yes, registered under the customers name</td>\n",
       "      <td>yes</td>\n",
       "      <td>Good</td>\n",
       "    </tr>\n",
       "    <tr>\n",
       "      <th>1</th>\n",
       "      <td>0 &lt;= ... &lt;  200 DM</td>\n",
       "      <td>48</td>\n",
       "      <td>existing credits paid back duly till now</td>\n",
       "      <td>radio/television</td>\n",
       "      <td>5951</td>\n",
       "      <td>... &lt;  100 DM</td>\n",
       "      <td>1  &lt;= ... &lt; 4 years</td>\n",
       "      <td>2</td>\n",
       "      <td>female : divorced/separated/married</td>\n",
       "      <td>none</td>\n",
       "      <td>...</td>\n",
       "      <td>real estate</td>\n",
       "      <td>22</td>\n",
       "      <td>none</td>\n",
       "      <td>own</td>\n",
       "      <td>1</td>\n",
       "      <td>skilled employee / official</td>\n",
       "      <td>1</td>\n",
       "      <td>none</td>\n",
       "      <td>yes</td>\n",
       "      <td>Bad</td>\n",
       "    </tr>\n",
       "    <tr>\n",
       "      <th>2</th>\n",
       "      <td>no checking account</td>\n",
       "      <td>12</td>\n",
       "      <td>critical account/other credits existing (not a...</td>\n",
       "      <td>education</td>\n",
       "      <td>2096</td>\n",
       "      <td>... &lt;  100 DM</td>\n",
       "      <td>4  &lt;= ... &lt; 7 years</td>\n",
       "      <td>2</td>\n",
       "      <td>male   : single</td>\n",
       "      <td>none</td>\n",
       "      <td>...</td>\n",
       "      <td>real estate</td>\n",
       "      <td>49</td>\n",
       "      <td>none</td>\n",
       "      <td>own</td>\n",
       "      <td>1</td>\n",
       "      <td>unskilled - resident</td>\n",
       "      <td>2</td>\n",
       "      <td>none</td>\n",
       "      <td>yes</td>\n",
       "      <td>Good</td>\n",
       "    </tr>\n",
       "    <tr>\n",
       "      <th>3</th>\n",
       "      <td>... &lt;    0 DM</td>\n",
       "      <td>42</td>\n",
       "      <td>existing credits paid back duly till now</td>\n",
       "      <td>furniture/equipment</td>\n",
       "      <td>7882</td>\n",
       "      <td>... &lt;  100 DM</td>\n",
       "      <td>4  &lt;= ... &lt; 7 years</td>\n",
       "      <td>2</td>\n",
       "      <td>male   : single</td>\n",
       "      <td>guarantor</td>\n",
       "      <td>...</td>\n",
       "      <td>if not A121 : building society savings agreeme...</td>\n",
       "      <td>45</td>\n",
       "      <td>none</td>\n",
       "      <td>for free</td>\n",
       "      <td>1</td>\n",
       "      <td>skilled employee / official</td>\n",
       "      <td>2</td>\n",
       "      <td>none</td>\n",
       "      <td>yes</td>\n",
       "      <td>Good</td>\n",
       "    </tr>\n",
       "    <tr>\n",
       "      <th>4</th>\n",
       "      <td>... &lt;    0 DM</td>\n",
       "      <td>24</td>\n",
       "      <td>delay in paying off in the past</td>\n",
       "      <td>car (new)</td>\n",
       "      <td>4870</td>\n",
       "      <td>... &lt;  100 DM</td>\n",
       "      <td>1  &lt;= ... &lt; 4 years</td>\n",
       "      <td>3</td>\n",
       "      <td>male   : single</td>\n",
       "      <td>none</td>\n",
       "      <td>...</td>\n",
       "      <td>unknown / no property</td>\n",
       "      <td>53</td>\n",
       "      <td>none</td>\n",
       "      <td>for free</td>\n",
       "      <td>2</td>\n",
       "      <td>skilled employee / official</td>\n",
       "      <td>2</td>\n",
       "      <td>none</td>\n",
       "      <td>yes</td>\n",
       "      <td>Bad</td>\n",
       "    </tr>\n",
       "  </tbody>\n",
       "</table>\n",
       "<p>5 rows × 21 columns</p>\n",
       "</div>"
      ],
      "text/plain": [
       "  Status of existing checking account  Duration in month  \\\n",
       "0                       ... <    0 DM                  6   \n",
       "1                  0 <= ... <  200 DM                 48   \n",
       "2                 no checking account                 12   \n",
       "3                       ... <    0 DM                 42   \n",
       "4                       ... <    0 DM                 24   \n",
       "\n",
       "                                      Credit history              Purpose  \\\n",
       "0  critical account/other credits existing (not a...     radio/television   \n",
       "1           existing credits paid back duly till now     radio/television   \n",
       "2  critical account/other credits existing (not a...            education   \n",
       "3           existing credits paid back duly till now  furniture/equipment   \n",
       "4                    delay in paying off in the past            car (new)   \n",
       "\n",
       "   Credit amount        Savings account/bonds Present employment since  \\\n",
       "0           1169  unknown/ no savings account            .. >= 7 years   \n",
       "1           5951                ... <  100 DM      1  <= ... < 4 years   \n",
       "2           2096                ... <  100 DM      4  <= ... < 7 years   \n",
       "3           7882                ... <  100 DM      4  <= ... < 7 years   \n",
       "4           4870                ... <  100 DM      1  <= ... < 4 years   \n",
       "\n",
       "   Installment rate in percentage of disposable income  \\\n",
       "0                                                  4     \n",
       "1                                                  2     \n",
       "2                                                  2     \n",
       "3                                                  2     \n",
       "4                                                  3     \n",
       "\n",
       "               Personal status and sex Other debtors / guarantors  ...  \\\n",
       "0                      male   : single                       none  ...   \n",
       "1  female : divorced/separated/married                       none  ...   \n",
       "2                      male   : single                       none  ...   \n",
       "3                      male   : single                  guarantor  ...   \n",
       "4                      male   : single                       none  ...   \n",
       "\n",
       "                                            Property Age in years  \\\n",
       "0                                        real estate           67   \n",
       "1                                        real estate           22   \n",
       "2                                        real estate           49   \n",
       "3  if not A121 : building society savings agreeme...           45   \n",
       "4                              unknown / no property           53   \n",
       "\n",
       "   Other installment plans   Housing Number of existing credits at this bank  \\\n",
       "0                     none       own                                       2   \n",
       "1                     none       own                                       1   \n",
       "2                     none       own                                       1   \n",
       "3                     none  for free                                       1   \n",
       "4                     none  for free                                       2   \n",
       "\n",
       "                           Job  \\\n",
       "0  skilled employee / official   \n",
       "1  skilled employee / official   \n",
       "2         unskilled - resident   \n",
       "3  skilled employee / official   \n",
       "4  skilled employee / official   \n",
       "\n",
       "  Number of people being liable to provide maintenance for  \\\n",
       "0                                                  1         \n",
       "1                                                  1         \n",
       "2                                                  2         \n",
       "3                                                  2         \n",
       "4                                                  2         \n",
       "\n",
       "                                  Telephone foreign worker Class  \n",
       "0  yes, registered under the customers name            yes  Good  \n",
       "1                                      none            yes   Bad  \n",
       "2                                      none            yes  Good  \n",
       "3                                      none            yes  Good  \n",
       "4                                      none            yes   Bad  \n",
       "\n",
       "[5 rows x 21 columns]"
      ]
     },
     "execution_count": 51,
     "metadata": {},
     "output_type": "execute_result"
    }
   ],
   "source": [
    "german.head()"
   ]
  },
  {
   "cell_type": "code",
   "execution_count": 52,
   "id": "c1202584",
   "metadata": {},
   "outputs": [],
   "source": [
    "german['Class'] = german['Class'].apply(lambda x: 0 if x =='Good' else 1)"
   ]
  },
  {
   "cell_type": "code",
   "execution_count": 53,
   "id": "0b2c6ace",
   "metadata": {},
   "outputs": [
    {
     "data": {
      "text/plain": [
       "Class\n",
       "0    700\n",
       "1    300\n",
       "Name: count, dtype: int64"
      ]
     },
     "execution_count": 53,
     "metadata": {},
     "output_type": "execute_result"
    }
   ],
   "source": [
    "german['Class'].value_counts()"
   ]
  },
  {
   "cell_type": "code",
   "execution_count": 54,
   "id": "d5b4f78e",
   "metadata": {},
   "outputs": [
    {
     "data": {
      "text/plain": [
       "['Status of existing checking account',\n",
       " 'Credit history',\n",
       " 'Purpose',\n",
       " 'Savings account/bonds',\n",
       " 'Present employment since',\n",
       " 'Personal status and sex',\n",
       " 'Other debtors / guarantors',\n",
       " 'Property',\n",
       " 'Other installment plans',\n",
       " 'Housing',\n",
       " 'Job',\n",
       " 'Telephone',\n",
       " 'foreign worker']"
      ]
     },
     "execution_count": 54,
     "metadata": {},
     "output_type": "execute_result"
    }
   ],
   "source": [
    "cat_col = [i for i in german.columns if type(german[i][0])==str]\n",
    "num_col = [i for i in german.columns if type(german[i][0])!=str]\n",
    "cat_col"
   ]
  },
  {
   "cell_type": "code",
   "execution_count": 55,
   "id": "e783b06f",
   "metadata": {},
   "outputs": [],
   "source": [
    "X = german[[i for i in german.columns if i!='Class']]\n",
    "y = german['Class']"
   ]
  },
  {
   "cell_type": "code",
   "execution_count": 56,
   "id": "5a0c9b28",
   "metadata": {},
   "outputs": [],
   "source": [
    "X_train, X_test, y_train, y_test = train_test_split(X, y, test_size=0.33, random_state=1990)"
   ]
  },
  {
   "cell_type": "code",
   "execution_count": 57,
   "id": "2985e0e6",
   "metadata": {},
   "outputs": [
    {
     "name": "stdout",
     "output_type": "stream",
     "text": [
      "(670, 20)\n",
      "(330, 20)\n",
      "(670,)\n",
      "(330,)\n"
     ]
    }
   ],
   "source": [
    "print(X_train.shape)\n",
    "print(X_test.shape)\n",
    "print(y_train.shape)\n",
    "print(y_test.shape)"
   ]
  },
  {
   "cell_type": "code",
   "execution_count": 58,
   "id": "6dd5407a",
   "metadata": {},
   "outputs": [
    {
     "data": {
      "text/plain": [
       "{0: 0.7219827586206896, 1: 1.6262135922330097}"
      ]
     },
     "execution_count": 58,
     "metadata": {},
     "output_type": "execute_result"
    }
   ],
   "source": [
    "from sklearn.utils.class_weight import compute_class_weight\n",
    "classes = np.unique(y_train)\n",
    "weights = compute_class_weight(class_weight='balanced', classes=classes, y=y_train)\n",
    "class_weights = dict(zip(classes, weights))\n",
    "class_weights"
   ]
  },
  {
   "cell_type": "code",
   "execution_count": 59,
   "id": "e2acc54b",
   "metadata": {},
   "outputs": [],
   "source": [
    "# Convert categorical columns to category type\n",
    "X_train[cat_col] = X_train[cat_col].astype('category')\n",
    "X_test[cat_col] = X_test[cat_col].astype('category')"
   ]
  },
  {
   "cell_type": "code",
   "execution_count": 60,
   "id": "2fad2944",
   "metadata": {},
   "outputs": [],
   "source": [
    "y_train = y_train.astype('category')\n",
    "y_test = y_test.astype('category')"
   ]
  },
  {
   "cell_type": "markdown",
   "id": "020d7d29",
   "metadata": {},
   "source": [
    "## XGB"
   ]
  },
  {
   "cell_type": "code",
   "execution_count": 61,
   "id": "51950a62",
   "metadata": {},
   "outputs": [],
   "source": [
    "hyper_parameter = {\n",
    "    'max_depth': [3, 5, 7],\n",
    "    'eta': [0.1, 0.3, 0.5,0.7,0.9],\n",
    "    'subsample': [0.5, 0.7, 1]\n",
    "}"
   ]
  },
  {
   "cell_type": "code",
   "execution_count": 71,
   "id": "bb0a3b3a",
   "metadata": {},
   "outputs": [],
   "source": [
    "### XGB\n",
    "Hyperparameter_tune = {\n",
    "    'max_depth': [],\n",
    "    'eta': [],\n",
    "    'subsample': [],\n",
    "    'f1_score':[]\n",
    "}\n",
    "for i in hyper_parameter['max_depth']:\n",
    "    for j in hyper_parameter['eta']:\n",
    "        for k in hyper_parameter['subsample']:\n",
    "            model = XGBClassifier(enable_categorical=True, max_depth=i, eta=j,subsample=k)\n",
    "            model.fit(X_train, y_train)\n",
    "            #Prediction\n",
    "            y_pred = model.predict(X_test)\n",
    "            #Evaluation\n",
    "            Hyperparameter_tune['max_depth'].append(i)\n",
    "            Hyperparameter_tune['eta'].append(j)\n",
    "            Hyperparameter_tune['subsample'].append(k)\n",
    "            Hyperparameter_tune['f1_score'].append(f1_score(y_test, y_pred))"
   ]
  },
  {
   "cell_type": "code",
   "execution_count": 72,
   "id": "7abb8f5e",
   "metadata": {
    "scrolled": false
   },
   "outputs": [
    {
     "data": {
      "text/html": [
       "<div>\n",
       "<style scoped>\n",
       "    .dataframe tbody tr th:only-of-type {\n",
       "        vertical-align: middle;\n",
       "    }\n",
       "\n",
       "    .dataframe tbody tr th {\n",
       "        vertical-align: top;\n",
       "    }\n",
       "\n",
       "    .dataframe thead th {\n",
       "        text-align: right;\n",
       "    }\n",
       "</style>\n",
       "<table border=\"1\" class=\"dataframe\">\n",
       "  <thead>\n",
       "    <tr style=\"text-align: right;\">\n",
       "      <th></th>\n",
       "      <th>max_depth</th>\n",
       "      <th>eta</th>\n",
       "      <th>subsample</th>\n",
       "      <th>f1_score</th>\n",
       "    </tr>\n",
       "  </thead>\n",
       "  <tbody>\n",
       "    <tr>\n",
       "      <th>0</th>\n",
       "      <td>3</td>\n",
       "      <td>0.1</td>\n",
       "      <td>0.5</td>\n",
       "      <td>0.527473</td>\n",
       "    </tr>\n",
       "    <tr>\n",
       "      <th>1</th>\n",
       "      <td>3</td>\n",
       "      <td>0.1</td>\n",
       "      <td>0.7</td>\n",
       "      <td>0.526882</td>\n",
       "    </tr>\n",
       "    <tr>\n",
       "      <th>2</th>\n",
       "      <td>3</td>\n",
       "      <td>0.1</td>\n",
       "      <td>1.0</td>\n",
       "      <td>0.524590</td>\n",
       "    </tr>\n",
       "    <tr>\n",
       "      <th>3</th>\n",
       "      <td>3</td>\n",
       "      <td>0.3</td>\n",
       "      <td>0.5</td>\n",
       "      <td>0.489583</td>\n",
       "    </tr>\n",
       "    <tr>\n",
       "      <th>4</th>\n",
       "      <td>3</td>\n",
       "      <td>0.3</td>\n",
       "      <td>0.7</td>\n",
       "      <td>0.527919</td>\n",
       "    </tr>\n",
       "  </tbody>\n",
       "</table>\n",
       "</div>"
      ],
      "text/plain": [
       "   max_depth  eta  subsample  f1_score\n",
       "0          3  0.1        0.5  0.527473\n",
       "1          3  0.1        0.7  0.526882\n",
       "2          3  0.1        1.0  0.524590\n",
       "3          3  0.3        0.5  0.489583\n",
       "4          3  0.3        0.7  0.527919"
      ]
     },
     "execution_count": 72,
     "metadata": {},
     "output_type": "execute_result"
    }
   ],
   "source": [
    "Hyperparameter_Result = pd.DataFrame(Hyperparameter_tune)\n",
    "Hyperparameter_Result.head()"
   ]
  },
  {
   "cell_type": "code",
   "execution_count": 73,
   "id": "c29bfea1",
   "metadata": {},
   "outputs": [
    {
     "data": {
      "text/html": [
       "<div>\n",
       "<style scoped>\n",
       "    .dataframe tbody tr th:only-of-type {\n",
       "        vertical-align: middle;\n",
       "    }\n",
       "\n",
       "    .dataframe tbody tr th {\n",
       "        vertical-align: top;\n",
       "    }\n",
       "\n",
       "    .dataframe thead th {\n",
       "        text-align: right;\n",
       "    }\n",
       "</style>\n",
       "<table border=\"1\" class=\"dataframe\">\n",
       "  <thead>\n",
       "    <tr style=\"text-align: right;\">\n",
       "      <th></th>\n",
       "      <th>max_depth</th>\n",
       "      <th>eta</th>\n",
       "      <th>subsample</th>\n",
       "      <th>f1_score</th>\n",
       "    </tr>\n",
       "  </thead>\n",
       "  <tbody>\n",
       "    <tr>\n",
       "      <th>8</th>\n",
       "      <td>3</td>\n",
       "      <td>0.5</td>\n",
       "      <td>1.0</td>\n",
       "      <td>0.571429</td>\n",
       "    </tr>\n",
       "  </tbody>\n",
       "</table>\n",
       "</div>"
      ],
      "text/plain": [
       "   max_depth  eta  subsample  f1_score\n",
       "8          3  0.5        1.0  0.571429"
      ]
     },
     "execution_count": 73,
     "metadata": {},
     "output_type": "execute_result"
    }
   ],
   "source": [
    "Best_parameter = Hyperparameter_Result.sort_values('f1_score',ascending=False).head(1)\n",
    "Best_parameter"
   ]
  },
  {
   "cell_type": "code",
   "execution_count": 74,
   "id": "7d1d931b",
   "metadata": {},
   "outputs": [],
   "source": [
    "max_depth = Best_parameter['max_depth'].values[0]\n",
    "eta = Best_parameter['eta'].values[0]\n",
    "subsample = Best_parameter['subsample'].values[0]"
   ]
  },
  {
   "cell_type": "code",
   "execution_count": 83,
   "id": "a4b54c5c",
   "metadata": {},
   "outputs": [
    {
     "data": {
      "text/html": [
       "<style>#sk-container-id-4 {color: black;}#sk-container-id-4 pre{padding: 0;}#sk-container-id-4 div.sk-toggleable {background-color: white;}#sk-container-id-4 label.sk-toggleable__label {cursor: pointer;display: block;width: 100%;margin-bottom: 0;padding: 0.3em;box-sizing: border-box;text-align: center;}#sk-container-id-4 label.sk-toggleable__label-arrow:before {content: \"▸\";float: left;margin-right: 0.25em;color: #696969;}#sk-container-id-4 label.sk-toggleable__label-arrow:hover:before {color: black;}#sk-container-id-4 div.sk-estimator:hover label.sk-toggleable__label-arrow:before {color: black;}#sk-container-id-4 div.sk-toggleable__content {max-height: 0;max-width: 0;overflow: hidden;text-align: left;background-color: #f0f8ff;}#sk-container-id-4 div.sk-toggleable__content pre {margin: 0.2em;color: black;border-radius: 0.25em;background-color: #f0f8ff;}#sk-container-id-4 input.sk-toggleable__control:checked~div.sk-toggleable__content {max-height: 200px;max-width: 100%;overflow: auto;}#sk-container-id-4 input.sk-toggleable__control:checked~label.sk-toggleable__label-arrow:before {content: \"▾\";}#sk-container-id-4 div.sk-estimator input.sk-toggleable__control:checked~label.sk-toggleable__label {background-color: #d4ebff;}#sk-container-id-4 div.sk-label input.sk-toggleable__control:checked~label.sk-toggleable__label {background-color: #d4ebff;}#sk-container-id-4 input.sk-hidden--visually {border: 0;clip: rect(1px 1px 1px 1px);clip: rect(1px, 1px, 1px, 1px);height: 1px;margin: -1px;overflow: hidden;padding: 0;position: absolute;width: 1px;}#sk-container-id-4 div.sk-estimator {font-family: monospace;background-color: #f0f8ff;border: 1px dotted black;border-radius: 0.25em;box-sizing: border-box;margin-bottom: 0.5em;}#sk-container-id-4 div.sk-estimator:hover {background-color: #d4ebff;}#sk-container-id-4 div.sk-parallel-item::after {content: \"\";width: 100%;border-bottom: 1px solid gray;flex-grow: 1;}#sk-container-id-4 div.sk-label:hover label.sk-toggleable__label {background-color: #d4ebff;}#sk-container-id-4 div.sk-serial::before {content: \"\";position: absolute;border-left: 1px solid gray;box-sizing: border-box;top: 0;bottom: 0;left: 50%;z-index: 0;}#sk-container-id-4 div.sk-serial {display: flex;flex-direction: column;align-items: center;background-color: white;padding-right: 0.2em;padding-left: 0.2em;position: relative;}#sk-container-id-4 div.sk-item {position: relative;z-index: 1;}#sk-container-id-4 div.sk-parallel {display: flex;align-items: stretch;justify-content: center;background-color: white;position: relative;}#sk-container-id-4 div.sk-item::before, #sk-container-id-4 div.sk-parallel-item::before {content: \"\";position: absolute;border-left: 1px solid gray;box-sizing: border-box;top: 0;bottom: 0;left: 50%;z-index: -1;}#sk-container-id-4 div.sk-parallel-item {display: flex;flex-direction: column;z-index: 1;position: relative;background-color: white;}#sk-container-id-4 div.sk-parallel-item:first-child::after {align-self: flex-end;width: 50%;}#sk-container-id-4 div.sk-parallel-item:last-child::after {align-self: flex-start;width: 50%;}#sk-container-id-4 div.sk-parallel-item:only-child::after {width: 0;}#sk-container-id-4 div.sk-dashed-wrapped {border: 1px dashed gray;margin: 0 0.4em 0.5em 0.4em;box-sizing: border-box;padding-bottom: 0.4em;background-color: white;}#sk-container-id-4 div.sk-label label {font-family: monospace;font-weight: bold;display: inline-block;line-height: 1.2em;}#sk-container-id-4 div.sk-label-container {text-align: center;}#sk-container-id-4 div.sk-container {/* jupyter's `normalize.less` sets `[hidden] { display: none; }` but bootstrap.min.css set `[hidden] { display: none !important; }` so we also need the `!important` here to be able to override the default hidden behavior on the sphinx rendered scikit-learn.org. See: https://github.com/scikit-learn/scikit-learn/issues/21755 */display: inline-block !important;position: relative;}#sk-container-id-4 div.sk-text-repr-fallback {display: none;}</style><div id=\"sk-container-id-4\" class=\"sk-top-container\"><div class=\"sk-text-repr-fallback\"><pre>XGBClassifier(base_score=None, booster=None, callbacks=None,\n",
       "              colsample_bylevel=None, colsample_bynode=None,\n",
       "              colsample_bytree=None, device=None, early_stopping_rounds=None,\n",
       "              enable_categorical=True, eta=0.5, eval_metric=None,\n",
       "              feature_types=None, gamma=None, grow_policy=None,\n",
       "              importance_type=None, interaction_constraints=None,\n",
       "              learning_rate=None, max_bin=None, max_cat_threshold=None,\n",
       "              max_cat_to_onehot=None, max_delta_step=None, max_depth=3,\n",
       "              max_leaves=None, min_child_weight=None, missing=nan,\n",
       "              monotone_constraints=None, multi_strategy=None, n_estimators=None,\n",
       "              n_jobs=None, num_parallel_tree=None, ...)</pre><b>In a Jupyter environment, please rerun this cell to show the HTML representation or trust the notebook. <br />On GitHub, the HTML representation is unable to render, please try loading this page with nbviewer.org.</b></div><div class=\"sk-container\" hidden><div class=\"sk-item\"><div class=\"sk-estimator sk-toggleable\"><input class=\"sk-toggleable__control sk-hidden--visually\" id=\"sk-estimator-id-4\" type=\"checkbox\" checked><label for=\"sk-estimator-id-4\" class=\"sk-toggleable__label sk-toggleable__label-arrow\">XGBClassifier</label><div class=\"sk-toggleable__content\"><pre>XGBClassifier(base_score=None, booster=None, callbacks=None,\n",
       "              colsample_bylevel=None, colsample_bynode=None,\n",
       "              colsample_bytree=None, device=None, early_stopping_rounds=None,\n",
       "              enable_categorical=True, eta=0.5, eval_metric=None,\n",
       "              feature_types=None, gamma=None, grow_policy=None,\n",
       "              importance_type=None, interaction_constraints=None,\n",
       "              learning_rate=None, max_bin=None, max_cat_threshold=None,\n",
       "              max_cat_to_onehot=None, max_delta_step=None, max_depth=3,\n",
       "              max_leaves=None, min_child_weight=None, missing=nan,\n",
       "              monotone_constraints=None, multi_strategy=None, n_estimators=None,\n",
       "              n_jobs=None, num_parallel_tree=None, ...)</pre></div></div></div></div></div>"
      ],
      "text/plain": [
       "XGBClassifier(base_score=None, booster=None, callbacks=None,\n",
       "              colsample_bylevel=None, colsample_bynode=None,\n",
       "              colsample_bytree=None, device=None, early_stopping_rounds=None,\n",
       "              enable_categorical=True, eta=0.5, eval_metric=None,\n",
       "              feature_types=None, gamma=None, grow_policy=None,\n",
       "              importance_type=None, interaction_constraints=None,\n",
       "              learning_rate=None, max_bin=None, max_cat_threshold=None,\n",
       "              max_cat_to_onehot=None, max_delta_step=None, max_depth=3,\n",
       "              max_leaves=None, min_child_weight=None, missing=nan,\n",
       "              monotone_constraints=None, multi_strategy=None, n_estimators=None,\n",
       "              n_jobs=None, num_parallel_tree=None, ...)"
      ]
     },
     "execution_count": 83,
     "metadata": {},
     "output_type": "execute_result"
    }
   ],
   "source": [
    "model = XGBClassifier(enable_categorical=True, max_depth=max_depth, eta=eta, subsample=subsample)\n",
    "model.fit(X_train, y_train)"
   ]
  },
  {
   "cell_type": "code",
   "execution_count": 84,
   "id": "41ad275c",
   "metadata": {},
   "outputs": [
    {
     "name": "stdout",
     "output_type": "stream",
     "text": [
      "Classification report:\n",
      "              precision    recall  f1-score   support\n",
      "\n",
      "           0       0.83      0.81      0.82       236\n",
      "           1       0.55      0.60      0.57        94\n",
      "\n",
      "    accuracy                           0.75       330\n",
      "   macro avg       0.69      0.70      0.70       330\n",
      "weighted avg       0.75      0.75      0.75       330\n",
      "\n"
     ]
    }
   ],
   "source": [
    "#Prediction\n",
    "y_pred = model.predict(X_test)\n",
    "print('Classification report:')\n",
    "print(classification_report(y_test, y_pred))"
   ]
  },
  {
   "cell_type": "code",
   "execution_count": 86,
   "id": "4e70b87d",
   "metadata": {},
   "outputs": [
    {
     "name": "stdout",
     "output_type": "stream",
     "text": [
      "AUC score: 0.7004147133068878\n"
     ]
    }
   ],
   "source": [
    "print('AUC score:', roc_auc_score(y_test, y_pred))"
   ]
  },
  {
   "cell_type": "code",
   "execution_count": 85,
   "id": "a174692b",
   "metadata": {
    "scrolled": true
   },
   "outputs": [
    {
     "data": {
      "text/plain": [
       "Text(0.5, 1.0, 'Feature Importance')"
      ]
     },
     "execution_count": 85,
     "metadata": {},
     "output_type": "execute_result"
    },
    {
     "data": {
      "image/png": "[encoded data removed]",
      "text/plain": [
       "<Figure size 1200x600 with 1 Axes>"
      ]
     },
     "metadata": {},
     "output_type": "display_data"
    }
   ],
   "source": [
    "feature_importance = model.feature_importances_\n",
    "sorted_idx = np.argsort(-feature_importance)\n",
    "fig = plt.figure(figsize=(12, 6))\n",
    "plt.barh(range(len(sorted_idx)), feature_importance[sorted_idx], align='center')\n",
    "plt.yticks(range(len(sorted_idx)), np.array(X_test.columns)[sorted_idx])\n",
    "plt.legend([\"score\"], loc=\"upper right\")\n",
    "plt.title('Feature Importance')"
   ]
  },
  {
   "cell_type": "markdown",
   "id": "a09e41f9",
   "metadata": {},
   "source": [
    "# cat boost"
   ]
  },
  {
   "cell_type": "code",
   "execution_count": 94,
   "id": "26fa5bf0",
   "metadata": {},
   "outputs": [],
   "source": [
    "hyper_parameter = {\n",
    "    'learning_rate': [0.1,0.5,0.9],\n",
    "    'depth': [1,3,5,7],\n",
    "    'iteration':[250,500,750,1000]\n",
    "}"
   ]
  },
  {
   "cell_type": "code",
   "execution_count": 95,
   "id": "1cc4efc7",
   "metadata": {},
   "outputs": [],
   "source": [
    "### catboost\n",
    "Hyperparameter_tune = {\n",
    "    'learning_rate': [],\n",
    "    'depth': [],\n",
    "    'iteration': [],\n",
    "    'f1_score':[]\n",
    "}\n",
    "for i in hyper_parameter['learning_rate']:\n",
    "    for j in hyper_parameter['depth']:\n",
    "        for k in hyper_parameter['iteration']:\n",
    "                model_cl = CatBoostClassifier(iterations=k, learning_rate=i, depth=j, \n",
    "                            rsm=1, loss_function= 'Logloss', class_weights=class_weights,\n",
    "                            use_best_model=True, verbose=0,cat_features=cat_col)\n",
    "                model_cl.fit(X_train, y_train, eval_set=(X_train, y_train))\n",
    "                #Prediction\n",
    "                y_pred = model.predict(X_test)\n",
    "                #Evaluation\n",
    "                Hyperparameter_tune['learning_rate'].append(i)\n",
    "                Hyperparameter_tune['depth'].append(j)\n",
    "                Hyperparameter_tune['iteration'].append(k)\n",
    "                Hyperparameter_tune['f1_score'].append(f1_score(y_test, y_pred))"
   ]
  },
  {
   "cell_type": "code",
   "execution_count": 99,
   "id": "8cbf23b0",
   "metadata": {},
   "outputs": [
    {
     "data": {
      "text/html": [
       "<div>\n",
       "<style scoped>\n",
       "    .dataframe tbody tr th:only-of-type {\n",
       "        vertical-align: middle;\n",
       "    }\n",
       "\n",
       "    .dataframe tbody tr th {\n",
       "        vertical-align: top;\n",
       "    }\n",
       "\n",
       "    .dataframe thead th {\n",
       "        text-align: right;\n",
       "    }\n",
       "</style>\n",
       "<table border=\"1\" class=\"dataframe\">\n",
       "  <thead>\n",
       "    <tr style=\"text-align: right;\">\n",
       "      <th></th>\n",
       "      <th>learning_rate</th>\n",
       "      <th>depth</th>\n",
       "      <th>iteration</th>\n",
       "      <th>f1_score</th>\n",
       "    </tr>\n",
       "  </thead>\n",
       "  <tbody>\n",
       "    <tr>\n",
       "      <th>0</th>\n",
       "      <td>0.1</td>\n",
       "      <td>1</td>\n",
       "      <td>250</td>\n",
       "      <td>0.571429</td>\n",
       "    </tr>\n",
       "    <tr>\n",
       "      <th>1</th>\n",
       "      <td>0.1</td>\n",
       "      <td>1</td>\n",
       "      <td>500</td>\n",
       "      <td>0.571429</td>\n",
       "    </tr>\n",
       "    <tr>\n",
       "      <th>2</th>\n",
       "      <td>0.1</td>\n",
       "      <td>1</td>\n",
       "      <td>750</td>\n",
       "      <td>0.571429</td>\n",
       "    </tr>\n",
       "    <tr>\n",
       "      <th>3</th>\n",
       "      <td>0.1</td>\n",
       "      <td>1</td>\n",
       "      <td>1000</td>\n",
       "      <td>0.571429</td>\n",
       "    </tr>\n",
       "    <tr>\n",
       "      <th>4</th>\n",
       "      <td>0.1</td>\n",
       "      <td>3</td>\n",
       "      <td>250</td>\n",
       "      <td>0.571429</td>\n",
       "    </tr>\n",
       "  </tbody>\n",
       "</table>\n",
       "</div>"
      ],
      "text/plain": [
       "   learning_rate  depth  iteration  f1_score\n",
       "0            0.1      1        250  0.571429\n",
       "1            0.1      1        500  0.571429\n",
       "2            0.1      1        750  0.571429\n",
       "3            0.1      1       1000  0.571429\n",
       "4            0.1      3        250  0.571429"
      ]
     },
     "execution_count": 99,
     "metadata": {},
     "output_type": "execute_result"
    }
   ],
   "source": [
    "Hyperparameter_Result = pd.DataFrame(Hyperparameter_tune)\n",
    "Hyperparameter_Result.head()"
   ]
  },
  {
   "cell_type": "code",
   "execution_count": 100,
   "id": "26e957ab",
   "metadata": {},
   "outputs": [
    {
     "data": {
      "text/html": [
       "<div>\n",
       "<style scoped>\n",
       "    .dataframe tbody tr th:only-of-type {\n",
       "        vertical-align: middle;\n",
       "    }\n",
       "\n",
       "    .dataframe tbody tr th {\n",
       "        vertical-align: top;\n",
       "    }\n",
       "\n",
       "    .dataframe thead th {\n",
       "        text-align: right;\n",
       "    }\n",
       "</style>\n",
       "<table border=\"1\" class=\"dataframe\">\n",
       "  <thead>\n",
       "    <tr style=\"text-align: right;\">\n",
       "      <th></th>\n",
       "      <th>learning_rate</th>\n",
       "      <th>depth</th>\n",
       "      <th>iteration</th>\n",
       "      <th>f1_score</th>\n",
       "    </tr>\n",
       "  </thead>\n",
       "  <tbody>\n",
       "    <tr>\n",
       "      <th>0</th>\n",
       "      <td>0.1</td>\n",
       "      <td>1</td>\n",
       "      <td>250</td>\n",
       "      <td>0.571429</td>\n",
       "    </tr>\n",
       "  </tbody>\n",
       "</table>\n",
       "</div>"
      ],
      "text/plain": [
       "   learning_rate  depth  iteration  f1_score\n",
       "0            0.1      1        250  0.571429"
      ]
     },
     "execution_count": 100,
     "metadata": {},
     "output_type": "execute_result"
    }
   ],
   "source": [
    "Best_parameter = Hyperparameter_Result.sort_values('f1_score',ascending=False).head(1)\n",
    "Best_parameter"
   ]
  },
  {
   "cell_type": "code",
   "execution_count": 102,
   "id": "a76df912",
   "metadata": {},
   "outputs": [],
   "source": [
    "learning_rate = Best_parameter['learning_rate'].values[0]\n",
    "depth = Best_parameter['depth'].values[0]\n",
    "iteration = Best_parameter['iteration'].values[0]"
   ]
  },
  {
   "cell_type": "code",
   "execution_count": 103,
   "id": "1a39ef7a",
   "metadata": {},
   "outputs": [
    {
     "data": {
      "text/plain": [
       "<catboost.core.CatBoostClassifier at 0x2c1a912b910>"
      ]
     },
     "execution_count": 103,
     "metadata": {},
     "output_type": "execute_result"
    }
   ],
   "source": [
    "model_cl = CatBoostClassifier(iterations=iteration, learning_rate=learning_rate, depth=depth, \n",
    "                            rsm=1, loss_function= 'Logloss', class_weights=class_weights,\n",
    "                            use_best_model=True, verbose=0,cat_features=cat_col)\n",
    "model_cl.fit(X_train, y_train, eval_set=(X_train, y_train))"
   ]
  },
  {
   "cell_type": "code",
   "execution_count": 106,
   "id": "324987c8",
   "metadata": {},
   "outputs": [
    {
     "name": "stdout",
     "output_type": "stream",
     "text": [
      "Classification report:\n",
      "              precision    recall  f1-score   support\n",
      "\n",
      "           0       0.84      0.63      0.72       236\n",
      "           1       0.43      0.69      0.53        94\n",
      "\n",
      "    accuracy                           0.65       330\n",
      "   macro avg       0.63      0.66      0.62       330\n",
      "weighted avg       0.72      0.65      0.67       330\n",
      "\n"
     ]
    }
   ],
   "source": [
    "#Prediction\n",
    "y_pred = model_cl.predict(X_test)\n",
    "print('Classification report:')\n",
    "print(classification_report(y_test, y_pred))"
   ]
  },
  {
   "cell_type": "code",
   "execution_count": 107,
   "id": "38a81ae3",
   "metadata": {},
   "outputs": [
    {
     "name": "stdout",
     "output_type": "stream",
     "text": [
      "AUC score: 0.6614226469527588\n"
     ]
    }
   ],
   "source": [
    "print('AUC score:', roc_auc_score(y_test, y_pred))"
   ]
  },
  {
   "cell_type": "code",
   "execution_count": 108,
   "id": "b9a5d972",
   "metadata": {},
   "outputs": [
    {
     "data": {
      "text/plain": [
       "Text(0.5, 1.0, 'Feature Importance')"
      ]
     },
     "execution_count": 108,
     "metadata": {},
     "output_type": "execute_result"
    },
    {
     "data": {
      "image/png": "[encoded data removed]",
      "text/plain": [
       "<Figure size 1200x600 with 1 Axes>"
      ]
     },
     "metadata": {},
     "output_type": "display_data"
    }
   ],
   "source": [
    "feature_importance = model_cl.feature_importances_\n",
    "sorted_idx = np.argsort(-feature_importance)\n",
    "fig = plt.figure(figsize=(12, 6))\n",
    "plt.barh(range(len(sorted_idx)), feature_importance[sorted_idx], align='center')\n",
    "plt.yticks(range(len(sorted_idx)), np.array(X_test.columns)[sorted_idx])\n",
    "plt.legend([\"score\"], loc=\"upper right\")\n",
    "plt.title('Feature Importance')"
   ]
  }
 ],
 "metadata": {
  "kernelspec": {
   "display_name": "Python 3 (ipykernel)",
   "language": "python",
   "name": "python3"
  },
  "language_info": {
   "codemirror_mode": {
    "name": "ipython",
    "version": 3
   },
   "file_extension": ".py",
   "mimetype": "text/x-python",
   "name": "python",
   "nbconvert_exporter": "python",
   "pygments_lexer": "ipython3",
   "version": "3.11.5"
  }
 },
 "nbformat": 4,
 "nbformat_minor": 5
}
